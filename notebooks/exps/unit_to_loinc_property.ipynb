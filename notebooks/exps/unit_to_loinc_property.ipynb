{
 "cells": [
  {
   "cell_type": "markdown",
   "id": "2f8a8c68",
   "metadata": {},
   "source": [
    "# What\n",
    "\n",
    "LOINC property is very critical in linking process. Component along with other details can have multiple LOINC ids for different properties.\n",
    "\n",
    "There are multiple ways to handle unit > properties. \n",
    "1. Directly mapping unit > properties\n",
    "2. Going from unit > UCUM > properties \n",
    "\n",
    "In this notebook we explore option 1, using example units provided by LOINC for different tests"
   ]
  },
  {
   "cell_type": "code",
   "execution_count": 14,
   "id": "0da54ad4",
   "metadata": {},
   "outputs": [],
   "source": [
    "import pandas as pd\n",
    "import numpy as np\n",
    "from collections import Counter"
   ]
  },
  {
   "cell_type": "code",
   "execution_count": 15,
   "id": "dd15af43",
   "metadata": {},
   "outputs": [],
   "source": [
    "loinc_master_filename = '../../data/Loinc.csv'"
   ]
  },
  {
   "cell_type": "code",
   "execution_count": 16,
   "id": "b75b939c",
   "metadata": {},
   "outputs": [
    {
     "name": "stderr",
     "output_type": "stream",
     "text": [
      "/usr/local/Caskroom/miniforge/base/envs/loincly/lib/python3.7/site-packages/IPython/core/interactiveshell.py:3441: DtypeWarning: Columns (8,16,17,25,38,40,42) have mixed types.Specify dtype option on import or set low_memory=False.\n",
      "  exec(code_obj, self.user_global_ns, self.user_ns)\n"
     ]
    }
   ],
   "source": [
    "loinc_data = pd.read_csv(loinc_master_filename)\n",
    "loinc_data = loinc_data[loinc_data.STATUS=='ACTIVE']"
   ]
  },
  {
   "cell_type": "code",
   "execution_count": 17,
   "id": "d00a8d17",
   "metadata": {},
   "outputs": [
    {
     "data": {
      "text/html": [
       "<div>\n",
       "<style scoped>\n",
       "    .dataframe tbody tr th:only-of-type {\n",
       "        vertical-align: middle;\n",
       "    }\n",
       "\n",
       "    .dataframe tbody tr th {\n",
       "        vertical-align: top;\n",
       "    }\n",
       "\n",
       "    .dataframe thead th {\n",
       "        text-align: right;\n",
       "    }\n",
       "</style>\n",
       "<table border=\"1\" class=\"dataframe\">\n",
       "  <thead>\n",
       "    <tr style=\"text-align: right;\">\n",
       "      <th></th>\n",
       "      <th>LOINC_NUM</th>\n",
       "      <th>COMPONENT</th>\n",
       "      <th>PROPERTY</th>\n",
       "      <th>TIME_ASPCT</th>\n",
       "      <th>SYSTEM</th>\n",
       "      <th>SCALE_TYP</th>\n",
       "      <th>METHOD_TYP</th>\n",
       "      <th>CLASS</th>\n",
       "      <th>VersionLastChanged</th>\n",
       "      <th>CHNG_TYPE</th>\n",
       "      <th>...</th>\n",
       "      <th>COMMON_ORDER_RANK</th>\n",
       "      <th>COMMON_SI_TEST_RANK</th>\n",
       "      <th>HL7_ATTACHMENT_STRUCTURE</th>\n",
       "      <th>EXTERNAL_COPYRIGHT_LINK</th>\n",
       "      <th>PanelType</th>\n",
       "      <th>AskAtOrderEntry</th>\n",
       "      <th>AssociatedObservations</th>\n",
       "      <th>VersionFirstReleased</th>\n",
       "      <th>ValidHL7AttachmentRequest</th>\n",
       "      <th>DisplayName</th>\n",
       "    </tr>\n",
       "  </thead>\n",
       "  <tbody>\n",
       "    <tr>\n",
       "      <th>0</th>\n",
       "      <td>10000-8</td>\n",
       "      <td>R wave duration.lead AVR</td>\n",
       "      <td>Time</td>\n",
       "      <td>Pt</td>\n",
       "      <td>Heart</td>\n",
       "      <td>Qn</td>\n",
       "      <td>EKG</td>\n",
       "      <td>EKG.MEAS</td>\n",
       "      <td>2.48</td>\n",
       "      <td>MIN</td>\n",
       "      <td>...</td>\n",
       "      <td>0</td>\n",
       "      <td>0</td>\n",
       "      <td>NaN</td>\n",
       "      <td>NaN</td>\n",
       "      <td>NaN</td>\n",
       "      <td>NaN</td>\n",
       "      <td>NaN</td>\n",
       "      <td>1.0i</td>\n",
       "      <td>NaN</td>\n",
       "      <td>NaN</td>\n",
       "    </tr>\n",
       "    <tr>\n",
       "      <th>1</th>\n",
       "      <td>10001-6</td>\n",
       "      <td>R wave duration.lead I</td>\n",
       "      <td>Time</td>\n",
       "      <td>Pt</td>\n",
       "      <td>Heart</td>\n",
       "      <td>Qn</td>\n",
       "      <td>EKG</td>\n",
       "      <td>EKG.MEAS</td>\n",
       "      <td>2.48</td>\n",
       "      <td>MIN</td>\n",
       "      <td>...</td>\n",
       "      <td>0</td>\n",
       "      <td>0</td>\n",
       "      <td>NaN</td>\n",
       "      <td>NaN</td>\n",
       "      <td>NaN</td>\n",
       "      <td>NaN</td>\n",
       "      <td>NaN</td>\n",
       "      <td>1.0i</td>\n",
       "      <td>NaN</td>\n",
       "      <td>NaN</td>\n",
       "    </tr>\n",
       "    <tr>\n",
       "      <th>2</th>\n",
       "      <td>10002-4</td>\n",
       "      <td>R wave duration.lead II</td>\n",
       "      <td>Time</td>\n",
       "      <td>Pt</td>\n",
       "      <td>Heart</td>\n",
       "      <td>Qn</td>\n",
       "      <td>EKG</td>\n",
       "      <td>EKG.MEAS</td>\n",
       "      <td>2.48</td>\n",
       "      <td>MIN</td>\n",
       "      <td>...</td>\n",
       "      <td>0</td>\n",
       "      <td>0</td>\n",
       "      <td>NaN</td>\n",
       "      <td>NaN</td>\n",
       "      <td>NaN</td>\n",
       "      <td>NaN</td>\n",
       "      <td>NaN</td>\n",
       "      <td>1.0i</td>\n",
       "      <td>NaN</td>\n",
       "      <td>NaN</td>\n",
       "    </tr>\n",
       "    <tr>\n",
       "      <th>3</th>\n",
       "      <td>10003-2</td>\n",
       "      <td>R wave duration.lead III</td>\n",
       "      <td>Time</td>\n",
       "      <td>Pt</td>\n",
       "      <td>Heart</td>\n",
       "      <td>Qn</td>\n",
       "      <td>EKG</td>\n",
       "      <td>EKG.MEAS</td>\n",
       "      <td>2.48</td>\n",
       "      <td>MIN</td>\n",
       "      <td>...</td>\n",
       "      <td>0</td>\n",
       "      <td>0</td>\n",
       "      <td>NaN</td>\n",
       "      <td>NaN</td>\n",
       "      <td>NaN</td>\n",
       "      <td>NaN</td>\n",
       "      <td>NaN</td>\n",
       "      <td>1.0i</td>\n",
       "      <td>NaN</td>\n",
       "      <td>NaN</td>\n",
       "    </tr>\n",
       "    <tr>\n",
       "      <th>4</th>\n",
       "      <td>10004-0</td>\n",
       "      <td>R wave duration.lead V1</td>\n",
       "      <td>Time</td>\n",
       "      <td>Pt</td>\n",
       "      <td>Heart</td>\n",
       "      <td>Qn</td>\n",
       "      <td>EKG</td>\n",
       "      <td>EKG.MEAS</td>\n",
       "      <td>2.48</td>\n",
       "      <td>MIN</td>\n",
       "      <td>...</td>\n",
       "      <td>0</td>\n",
       "      <td>0</td>\n",
       "      <td>NaN</td>\n",
       "      <td>NaN</td>\n",
       "      <td>NaN</td>\n",
       "      <td>NaN</td>\n",
       "      <td>NaN</td>\n",
       "      <td>1.0i</td>\n",
       "      <td>NaN</td>\n",
       "      <td>NaN</td>\n",
       "    </tr>\n",
       "  </tbody>\n",
       "</table>\n",
       "<p>5 rows × 45 columns</p>\n",
       "</div>"
      ],
      "text/plain": [
       "  LOINC_NUM                 COMPONENT PROPERTY TIME_ASPCT SYSTEM SCALE_TYP  \\\n",
       "0   10000-8  R wave duration.lead AVR     Time         Pt  Heart        Qn   \n",
       "1   10001-6    R wave duration.lead I     Time         Pt  Heart        Qn   \n",
       "2   10002-4   R wave duration.lead II     Time         Pt  Heart        Qn   \n",
       "3   10003-2  R wave duration.lead III     Time         Pt  Heart        Qn   \n",
       "4   10004-0   R wave duration.lead V1     Time         Pt  Heart        Qn   \n",
       "\n",
       "  METHOD_TYP     CLASS VersionLastChanged CHNG_TYPE  ... COMMON_ORDER_RANK  \\\n",
       "0        EKG  EKG.MEAS               2.48       MIN  ...                 0   \n",
       "1        EKG  EKG.MEAS               2.48       MIN  ...                 0   \n",
       "2        EKG  EKG.MEAS               2.48       MIN  ...                 0   \n",
       "3        EKG  EKG.MEAS               2.48       MIN  ...                 0   \n",
       "4        EKG  EKG.MEAS               2.48       MIN  ...                 0   \n",
       "\n",
       "  COMMON_SI_TEST_RANK  HL7_ATTACHMENT_STRUCTURE  EXTERNAL_COPYRIGHT_LINK  \\\n",
       "0                   0                       NaN                      NaN   \n",
       "1                   0                       NaN                      NaN   \n",
       "2                   0                       NaN                      NaN   \n",
       "3                   0                       NaN                      NaN   \n",
       "4                   0                       NaN                      NaN   \n",
       "\n",
       "  PanelType AskAtOrderEntry AssociatedObservations VersionFirstReleased  \\\n",
       "0       NaN             NaN                    NaN                 1.0i   \n",
       "1       NaN             NaN                    NaN                 1.0i   \n",
       "2       NaN             NaN                    NaN                 1.0i   \n",
       "3       NaN             NaN                    NaN                 1.0i   \n",
       "4       NaN             NaN                    NaN                 1.0i   \n",
       "\n",
       "  ValidHL7AttachmentRequest  DisplayName  \n",
       "0                       NaN          NaN  \n",
       "1                       NaN          NaN  \n",
       "2                       NaN          NaN  \n",
       "3                       NaN          NaN  \n",
       "4                       NaN          NaN  \n",
       "\n",
       "[5 rows x 45 columns]"
      ]
     },
     "execution_count": 17,
     "metadata": {},
     "output_type": "execute_result"
    }
   ],
   "source": [
    "loinc_data.head()"
   ]
  },
  {
   "cell_type": "code",
   "execution_count": 64,
   "id": "96970333",
   "metadata": {},
   "outputs": [],
   "source": [
    "property_units = []\n",
    "for ind, row in loinc_data[loinc_data.EXAMPLE_UCUM_UNITS.notna()|loinc_data.EXAMPLE_UNITS.notna()].iterrows():\n",
    "    units = []\n",
    "    if str(row.EXAMPLE_UCUM_UNITS) != 'nan':\n",
    "        units.extend(row.EXAMPLE_UCUM_UNITS.split(';'))\n",
    "    if str(row.EXAMPLE_UNITS) != 'nan':\n",
    "        units.extend(row.EXAMPLE_UNITS.split(';'))\n",
    "    if str(row.EXAMPLE_SI_UCUM_UNITS) != 'nan':\n",
    "        units.extend(row.EXAMPLE_SI_UCUM_UNITS.split(';'))        \n",
    "    for u in np.unique(units):\n",
    "        property_units.append(dict(property=row.PROPERTY, unit=u.lower().strip()))"
   ]
  },
  {
   "cell_type": "code",
   "execution_count": 66,
   "id": "3256da58",
   "metadata": {},
   "outputs": [],
   "source": [
    "property_units = pd.DataFrame(property_units)"
   ]
  },
  {
   "cell_type": "code",
   "execution_count": 39,
   "id": "a291226b",
   "metadata": {},
   "outputs": [],
   "source": [
    "units = Counter([x.strip() for x in \"||\".join(property_units[property_units.property=='NCnc'].unit.values).split(\"||\")])"
   ]
  },
  {
   "cell_type": "code",
   "execution_count": 40,
   "id": "4abf331e",
   "metadata": {
    "scrolled": false
   },
   "outputs": [
    {
     "data": {
      "text/plain": [
       "Counter({'10*3/ul': 419,\n",
       "         '10*6/ml': 13,\n",
       "         '/l': 7,\n",
       "         '10*9/l': 195,\n",
       "         '/ml': 29,\n",
       "         '/ul': 318,\n",
       "         '10*6/l': 82,\n",
       "         '/mm3': 9,\n",
       "         '10*6/ul': 11,\n",
       "         'wbcs/ul': 1,\n",
       "         'leu/ul': 1,\n",
       "         'rbcs/ul': 1,\n",
       "         'ery/ul': 1,\n",
       "         'copies/ml': 205,\n",
       "         '{copies}/ml': 207,\n",
       "         '10*6 eq/ml': 2,\n",
       "         '10*6{viral equivalents}/ml': 2,\n",
       "         'cells/ul': 70,\n",
       "         '10*3/mm3': 18,\n",
       "         '10*12/l': 12,\n",
       "         '10*3': 1,\n",
       "         'copies/ul': 2,\n",
       "         '{copies}/ul': 2,\n",
       "         '10*9/ul': 4,\n",
       "         '10*3/l': 3,\n",
       "         'copies': 1,\n",
       "         '{copies}': 1,\n",
       "         'copies/l': 2,\n",
       "         'ctcs/7.5 ml': 3,\n",
       "         '{ctcs}/(7.5.ml)': 3,\n",
       "         '#/ml': 15,\n",
       "         '{#}/ml': 16,\n",
       "         '{cells}/ul': 44,\n",
       "         'cfu/ml': 1,\n",
       "         'cells/mcl': 1})"
      ]
     },
     "execution_count": 40,
     "metadata": {},
     "output_type": "execute_result"
    }
   ],
   "source": [
    "units"
   ]
  },
  {
   "cell_type": "code",
   "execution_count": 41,
   "id": "d8e51d1a",
   "metadata": {},
   "outputs": [
    {
     "data": {
      "text/plain": [
       "91262    ug/mmol\n",
       "Name: EXAMPLE_UNITS, dtype: object"
      ]
     },
     "execution_count": 41,
     "metadata": {},
     "output_type": "execute_result"
    }
   ],
   "source": [
    "loinc_data[(loinc_data.PROPERTY=='Ratio')&(loinc_data.EXAMPLE_UNITS=='ug/mmol')].EXAMPLE_UNITS"
   ]
  },
  {
   "cell_type": "code",
   "execution_count": 23,
   "id": "9c9319dc",
   "metadata": {},
   "outputs": [
    {
     "data": {
      "text/plain": [
       "20874    IU/g creatinine\n",
       "26624    IU/g creatinine\n",
       "Name: EXAMPLE_UNITS, dtype: object"
      ]
     },
     "execution_count": 23,
     "metadata": {},
     "output_type": "execute_result"
    }
   ],
   "source": [
    "loinc_data[loinc_data.COMPONENT=='Lutropin/Creatinine'].EXAMPLE_UNITS"
   ]
  },
  {
   "cell_type": "code",
   "execution_count": 24,
   "id": "efc692f6",
   "metadata": {},
   "outputs": [
    {
     "data": {
      "text/plain": [
       "ACTIVE    87583\n",
       "Name: STATUS, dtype: int64"
      ]
     },
     "execution_count": 24,
     "metadata": {},
     "output_type": "execute_result"
    }
   ],
   "source": [
    "loinc_data.STATUS.value_counts()"
   ]
  },
  {
   "cell_type": "markdown",
   "id": "59dc9162",
   "metadata": {},
   "source": [
    "# Computing probability of unitt > property"
   ]
  },
  {
   "cell_type": "code",
   "execution_count": 67,
   "id": "b8f92b96",
   "metadata": {},
   "outputs": [],
   "source": [
    "vc1 = property_units.groupby('unit').property.value_counts()\n",
    "vc2 = property_units.groupby('unit').property.count()"
   ]
  },
  {
   "cell_type": "code",
   "execution_count": 68,
   "id": "5b03eb32",
   "metadata": {},
   "outputs": [
    {
     "data": {
      "text/plain": [
       "unit             property\n",
       "                 Len            1\n",
       "nmol/mg protein  Ratio          1\n",
       "g/4 h            MRat           1\n",
       "nmol/hr/ml       CCnc           1\n",
       "nmol/h/g{hb}     CCnt           1\n",
       "                             ... \n",
       "ug/ml            MCnc        2000\n",
       "ng/ml            MCnc        2570\n",
       "titer            Titr        2769\n",
       "{titer}          Titr        2771\n",
       "[arb'u]/ml       ACnc        2829\n",
       "Name: property, Length: 1411, dtype: int64"
      ]
     },
     "execution_count": 68,
     "metadata": {},
     "output_type": "execute_result"
    }
   ],
   "source": [
    "vc1.sort_values()"
   ]
  },
  {
   "cell_type": "code",
   "execution_count": 69,
   "id": "c5de3c11",
   "metadata": {},
   "outputs": [],
   "source": [
    "vc = vc1/vc2"
   ]
  },
  {
   "cell_type": "code",
   "execution_count": 70,
   "id": "407cee0f",
   "metadata": {},
   "outputs": [],
   "source": [
    "vc.to_csv('unit_to_prop_prob.csv')"
   ]
  },
  {
   "cell_type": "code",
   "execution_count": 62,
   "id": "0197f078",
   "metadata": {},
   "outputs": [
    {
     "name": "stdout",
     "output_type": "stream",
     "text": [
      "/Users/naad/Work/Orbi/code/Lo-INcly/notebooks/exps\r\n"
     ]
    }
   ],
   "source": [
    "!pwd"
   ]
  },
  {
   "cell_type": "code",
   "execution_count": null,
   "id": "4bb7548d",
   "metadata": {},
   "outputs": [],
   "source": []
  }
 ],
 "metadata": {
  "kernelspec": {
   "display_name": "Python 3 (ipykernel)",
   "language": "python",
   "name": "python3"
  },
  "language_info": {
   "codemirror_mode": {
    "name": "ipython",
    "version": 3
   },
   "file_extension": ".py",
   "mimetype": "text/x-python",
   "name": "python",
   "nbconvert_exporter": "python",
   "pygments_lexer": "ipython3",
   "version": "3.7.10"
  }
 },
 "nbformat": 4,
 "nbformat_minor": 5
}
